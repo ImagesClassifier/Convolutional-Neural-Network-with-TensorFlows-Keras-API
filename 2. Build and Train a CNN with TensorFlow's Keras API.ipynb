{
 "cells": [
  {
   "cell_type": "markdown",
   "metadata": {},
   "source": [
    "# Build and Train a CNN"
   ]
  },
  {
   "cell_type": "code",
   "execution_count": 16,
   "metadata": {},
   "outputs": [
    {
     "name": "stdout",
     "output_type": "stream",
     "text": [
      "Num GPUs Available:  0\n"
     ]
    }
   ],
   "source": [
    "pysical_devices = tf.config.experimental.list_physical_devices('GPU')\n",
    "print(\"Num GPUs Available: \", len(pysical_devices))"
   ]
  },
  {
   "cell_type": "code",
   "execution_count": 17,
   "metadata": {},
   "outputs": [],
   "source": [
    "model = Sequential([\n",
    "    Conv2D(filters=32, kernel_size=(3, 3), activation='relu', padding = 'same', input_shape=(224,224,3)),\n",
    "    MaxPool2D(pool_size=(2, 2), strides=2),\n",
    "    Conv2D(filters=64, kernel_size=(3, 3), activation='relu', padding = 'same'),\n",
    "    MaxPool2D(pool_size=(2, 2), strides=2),\n",
    "    Flatten(),\n",
    "    Dense(units=2, activation='softmax')\n",
    "])"
   ]
  },
  {
   "cell_type": "code",
   "execution_count": 18,
   "metadata": {
    "scrolled": true
   },
   "outputs": [
    {
     "name": "stdout",
     "output_type": "stream",
     "text": [
      "Model: \"sequential\"\n",
      "_________________________________________________________________\n",
      "Layer (type)                 Output Shape              Param #   \n",
      "=================================================================\n",
      "conv2d (Conv2D)              (None, 224, 224, 32)      896       \n",
      "_________________________________________________________________\n",
      "max_pooling2d (MaxPooling2D) (None, 112, 112, 32)      0         \n",
      "_________________________________________________________________\n",
      "conv2d_1 (Conv2D)            (None, 112, 112, 64)      18496     \n",
      "_________________________________________________________________\n",
      "max_pooling2d_1 (MaxPooling2 (None, 56, 56, 64)        0         \n",
      "_________________________________________________________________\n",
      "flatten (Flatten)            (None, 200704)            0         \n",
      "_________________________________________________________________\n",
      "dense (Dense)                (None, 2)                 401410    \n",
      "=================================================================\n",
      "Total params: 420,802\n",
      "Trainable params: 420,802\n",
      "Non-trainable params: 0\n",
      "_________________________________________________________________\n"
     ]
    }
   ],
   "source": [
    "model.summary()"
   ]
  },
  {
   "cell_type": "code",
   "execution_count": 19,
   "metadata": {},
   "outputs": [],
   "source": [
    "model.compile(optimizer=Adam(learning_rate=0.0001), loss='categorical_crossentropy', metrics=['accuracy'])"
   ]
  },
  {
   "cell_type": "code",
   "execution_count": 20,
   "metadata": {},
   "outputs": [],
   "source": [
    "X_train = train_batches\n",
    "y_train = train_batches.classes\n",
    "X_valid = valid_batches\n",
    "y_valid = valid_batches.classes"
   ]
  },
  {
   "cell_type": "code",
   "execution_count": 21,
   "metadata": {},
   "outputs": [
    {
     "name": "stdout",
     "output_type": "stream",
     "text": [
      "WARNING:tensorflow:sample_weight modes were coerced from\n",
      "  ...\n",
      "    to  \n",
      "  ['...']\n",
      "WARNING:tensorflow:sample_weight modes were coerced from\n",
      "  ...\n",
      "    to  \n",
      "  ['...']\n",
      "Train for 100 steps, validate for 20 steps\n",
      "Epoch 1/10\n",
      "100/100 - 37s - loss: 18.2921 - accuracy: 0.5610 - val_loss: 10.4781 - val_accuracy: 0.5000\n",
      "Epoch 2/10\n",
      "100/100 - 31s - loss: 4.3193 - accuracy: 0.6910 - val_loss: 5.7902 - val_accuracy: 0.5450\n",
      "Epoch 3/10\n",
      "100/100 - 31s - loss: 1.0476 - accuracy: 0.8230 - val_loss: 2.7465 - val_accuracy: 0.6400\n",
      "Epoch 4/10\n",
      "100/100 - 34s - loss: 0.1540 - accuracy: 0.9560 - val_loss: 1.8671 - val_accuracy: 0.6800\n",
      "Epoch 5/10\n",
      "100/100 - 44s - loss: 0.0235 - accuracy: 0.9890 - val_loss: 1.8138 - val_accuracy: 0.6950\n",
      "Epoch 6/10\n",
      "100/100 - 63s - loss: 0.0029 - accuracy: 1.0000 - val_loss: 1.7762 - val_accuracy: 0.7050\n",
      "Epoch 7/10\n",
      "100/100 - 64s - loss: 0.0016 - accuracy: 1.0000 - val_loss: 1.7591 - val_accuracy: 0.6950\n",
      "Epoch 8/10\n",
      "100/100 - 65s - loss: 0.0013 - accuracy: 1.0000 - val_loss: 1.7658 - val_accuracy: 0.7000\n",
      "Epoch 9/10\n",
      "100/100 - 63s - loss: 0.0011 - accuracy: 1.0000 - val_loss: 1.7608 - val_accuracy: 0.6850\n",
      "Epoch 10/10\n",
      "100/100 - 61s - loss: 9.5413e-04 - accuracy: 1.0000 - val_loss: 1.7616 - val_accuracy: 0.6850\n"
     ]
    },
    {
     "data": {
      "text/plain": [
       "<tensorflow.python.keras.callbacks.History at 0x2498a8f1d48>"
      ]
     },
     "execution_count": 21,
     "metadata": {},
     "output_type": "execute_result"
    }
   ],
   "source": [
    "model.fit(x=X_train, validation_data=X_valid, epochs=10, verbose=2)"
   ]
  },
  {
   "cell_type": "code",
   "execution_count": 22,
   "metadata": {},
   "outputs": [],
   "source": [
    "X_valid = valid_batches\n",
    "y_valid = valid_batches.classes"
   ]
  }
 ],
 "metadata": {
  "kernelspec": {
   "display_name": "Python 3",
   "language": "python",
   "name": "python3"
  },
  "language_info": {
   "codemirror_mode": {
    "name": "ipython",
    "version": 3
   },
   "file_extension": ".py",
   "mimetype": "text/x-python",
   "name": "python",
   "nbconvert_exporter": "python",
   "pygments_lexer": "ipython3",
   "version": "3.7.4"
  }
 },
 "nbformat": 4,
 "nbformat_minor": 2
}
