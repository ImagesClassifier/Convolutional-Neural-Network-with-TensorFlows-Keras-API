{
 "cells": [
  {
   "cell_type": "markdown",
   "metadata": {},
   "source": [
    "# Train Fine-tuned VGG16 model"
   ]
  },
  {
   "cell_type": "code",
   "execution_count": 50,
   "metadata": {},
   "outputs": [],
   "source": [
    "model.compile(optimizer=Adam(learning_rate=0.0001), loss='categorical_crossentropy', metrics=['accuracy'])"
   ]
  },
  {
   "cell_type": "code",
   "execution_count": 51,
   "metadata": {},
   "outputs": [],
   "source": [
    "X_train = train_batches\n",
    "y_train = train_batches.classes\n",
    "X_valid = valid_batches\n",
    "y_valid = valid_batches.classes"
   ]
  },
  {
   "cell_type": "code",
   "execution_count": 52,
   "metadata": {},
   "outputs": [
    {
     "name": "stdout",
     "output_type": "stream",
     "text": [
      "WARNING:tensorflow:sample_weight modes were coerced from\n",
      "  ...\n",
      "    to  \n",
      "  ['...']\n",
      "WARNING:tensorflow:sample_weight modes were coerced from\n",
      "  ...\n",
      "    to  \n",
      "  ['...']\n",
      "Train for 100 steps, validate for 20 steps\n",
      "Epoch 1/10\n",
      "100/100 - 338s - loss: 0.3210 - accuracy: 0.8750 - val_loss: 0.1668 - val_accuracy: 0.9200\n",
      "Epoch 2/10\n",
      "100/100 - 370s - loss: 0.0969 - accuracy: 0.9650 - val_loss: 0.1349 - val_accuracy: 0.9500\n",
      "Epoch 3/10\n",
      "100/100 - 351s - loss: 0.0625 - accuracy: 0.9800 - val_loss: 0.1241 - val_accuracy: 0.9550\n",
      "Epoch 4/10\n",
      "100/100 - 354s - loss: 0.0443 - accuracy: 0.9870 - val_loss: 0.1168 - val_accuracy: 0.9550\n",
      "Epoch 5/10\n",
      "100/100 - 354s - loss: 0.0336 - accuracy: 0.9920 - val_loss: 0.1150 - val_accuracy: 0.9550\n",
      "Epoch 6/10\n",
      "100/100 - 356s - loss: 0.0267 - accuracy: 0.9960 - val_loss: 0.1095 - val_accuracy: 0.9550\n",
      "Epoch 7/10\n",
      "100/100 - 367s - loss: 0.0211 - accuracy: 0.9970 - val_loss: 0.1072 - val_accuracy: 0.9550\n",
      "Epoch 8/10\n",
      "100/100 - 353s - loss: 0.0173 - accuracy: 0.9970 - val_loss: 0.1034 - val_accuracy: 0.9550\n",
      "Epoch 9/10\n",
      "100/100 - 357s - loss: 0.0143 - accuracy: 0.9990 - val_loss: 0.1013 - val_accuracy: 0.9600\n",
      "Epoch 10/10\n",
      "100/100 - 234s - loss: 0.0120 - accuracy: 0.9990 - val_loss: 0.0991 - val_accuracy: 0.9600\n"
     ]
    },
    {
     "data": {
      "text/plain": [
       "<tensorflow.python.keras.callbacks.History at 0x2498ce6b648>"
      ]
     },
     "execution_count": 52,
     "metadata": {},
     "output_type": "execute_result"
    }
   ],
   "source": [
    "model.fit(x=X_train, validation_data=X_valid, epochs=10, verbose=2)"
   ]
  },
  {
   "cell_type": "code",
   "execution_count": 53,
   "metadata": {},
   "outputs": [],
   "source": [
    "assert model.history.history.get('accuracy')[-1] > 0.95"
   ]
  }
 ],
 "metadata": {
  "kernelspec": {
   "display_name": "Python 3",
   "language": "python",
   "name": "python3"
  },
  "language_info": {
   "codemirror_mode": {
    "name": "ipython",
    "version": 3
   },
   "file_extension": ".py",
   "mimetype": "text/x-python",
   "name": "python",
   "nbconvert_exporter": "python",
   "pygments_lexer": "ipython3",
   "version": "3.7.4"
  }
 },
 "nbformat": 4,
 "nbformat_minor": 2
}
